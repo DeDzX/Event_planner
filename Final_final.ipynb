{
 "cells": [
  {
   "cell_type": "markdown",
   "id": "738facd2",
   "metadata": {},
   "source": [
    "#  RAG Frameworks: Research Task\n",
    "*Kaara AI Engineer Assignment*\n",
    " \n",
    "**Vansh Ahlawat**"
   ]
  },
  {
   "cell_type": "markdown",
   "id": "ae5c1016",
   "metadata": {},
   "source": [
    "In this notebook, we explore advanced Retrieval-Augmented Generation (RAG) methods — specifically **Graph RAG** and **Agentic RAG**.\n",
    "The goal is to compare these approaches with traditional RAG, understand their architecture, components, benefits, and implementation strategies.\n",
    "\n",
    "---"
   ]
  },
  {
   "cell_type": "markdown",
   "id": "793fa019",
   "metadata": {},
   "source": [
    "## 1.  Explain the Concepts"
   ]
  },
  {
   "cell_type": "markdown",
   "id": "4cb58980",
   "metadata": {},
   "source": [
    "### 🔹 What are Graph RAG and Agentic RAG?\n",
    "- **Graph RAG** enhances RAG by building a knowledge graph from documents using structured relationships (e.g. entity linking). This graph is then traversed to get more semantically relevant and connected information.\n",
    "- **Agentic RAG** structures the RAG pipeline as a **multi-agent system** where each agent (e.g. Retriever, Summarizer, Planner) performs a sub-task. It adds reasoning and coordination between agents for complex tasks."
   ]
  },
  {
   "cell_type": "markdown",
   "id": "b068312c",
   "metadata": {},
   "source": [
    "### 🔹 How do they differ from standard RAG?\n",
    "- **Traditional RAG** retrieves top-k documents and sends them to the LLM with the query.\n",
    "- **Graph RAG** retrieves context based on graph traversal and relationships.\n",
    "- **Agentic RAG** introduces control logic, allowing agents to interact and reason iteratively."
   ]
  },
  {
   "cell_type": "markdown",
   "id": "e7eda84e",
   "metadata": {},
   "source": [
    "## 2.  Architecture Overview"
   ]
  },
  {
   "cell_type": "markdown",
   "id": "bf30e6c1",
   "metadata": {},
   "source": [
    "### 🔹 Traditional RAG vs Graph RAG vs Agentic RAG\n",
    "| Feature | Traditional RAG | Graph RAG | Agentic RAG |\n",
    "|--------|------------------|-----------|-------------|\n",
    "| Retrieval | Vector similarity | Graph traversal | Agent-driven retrieval |\n",
    "| Structure | Flat | Structured graph | Modular agent system |\n",
    "| Reasoning | One-shot | Contextual via graph | Iterative via planning |\n",
    "| Components | Retriever, Generator | KG builder, Graph Reasoner | Agents, Planner, Tools |"
   ]
  },
  {
   "cell_type": "markdown",
   "id": "4010ab58",
   "metadata": {},
   "source": [
    "### 🔹 Key Components\n",
    "- **Retriever**: FAISS, BM25, Elastic\n",
    "- **Graph**: Neo4j, NetworkX\n",
    "- **Planner/Agents**: CrewAI, LangGraph, LangChain Agents"
   ]
  },
  {
   "cell_type": "markdown",
   "id": "1d9d0cf3",
   "metadata": {},
   "source": [
    "## 3.  Code Walkthroughs (Pseudo Code)"
   ]
  },
  {
   "cell_type": "markdown",
   "id": "b700e525",
   "metadata": {},
   "source": [
    "###  Traditional RAG"
   ]
  },
  {
   "cell_type": "code",
   "execution_count": null,
   "id": "6d0913b1",
   "metadata": {},
   "outputs": [],
   "source": [
    "# Pseudo code for Traditional RAG\n",
    "retriever = VectorRetriever(index=\"faiss_index\")\n",
    "docs = retriever.retrieve(query=\"What is LangChain?\", top_k=5)\n",
    "context = concatenate(query, docs)\n",
    "response = LLM.generate(prompt=context)\n",
    "print(response)\n"
   ]
  },
  {
   "cell_type": "markdown",
   "id": "75ea6c4e",
   "metadata": {},
   "source": [
    "###  Graph RAG"
   ]
  },
  {
   "cell_type": "code",
   "execution_count": null,
   "id": "25386fa0",
   "metadata": {},
   "outputs": [],
   "source": [
    "# Pseudo code for Graph RAG\n",
    "kg = KnowledgeGraph()\n",
    "for doc in corpus:\n",
    "    entities, relations = extract_entities_and_relations(doc)\n",
    "    kg.add(entities, relations)\n",
    "\n",
    "subgraph = kg.query(\"LangChain\", depth=2)\n",
    "prompt = format_graph_as_text(subgraph)\n",
    "response = LLM.generate(prompt)\n",
    "print(response)\n"
   ]
  },
  {
   "cell_type": "markdown",
   "id": "9e7614a4",
   "metadata": {},
   "source": [
    "###  Agentic RAG"
   ]
  },
  {
   "cell_type": "code",
   "execution_count": null,
   "id": "82edd8cb",
   "metadata": {},
   "outputs": [],
   "source": [
    "# Pseudo code for Agentic RAG\n",
    "planner = Agent(role=\"Planner\")\n",
    "retriever = Agent(role=\"Retriever\")\n",
    "summarizer = Agent(role=\"Summarizer\")\n",
    "\n",
    "plan = planner.plan(query=\"Explain LangChain vs LlamaIndex\")\n",
    "docs = retriever.retrieve(plan[\"retrieve_topic\"])\n",
    "summary = summarizer.summarize(docs)\n",
    "\n",
    "response = LLM.generate(prompt=f\"Q: {query}\\nContext: {summary}\")\n",
    "print(response)\n"
   ]
  },
  {
   "cell_type": "markdown",
   "id": "20bb1377",
   "metadata": {},
   "source": [
    "## 4.  Implementation Guide"
   ]
  },
  {
   "cell_type": "markdown",
   "id": "09555a33",
   "metadata": {},
   "source": [
    "### 🔹 Adapting RAG to Graph RAG\n",
    "- Add a knowledge graph builder (NER + relation extraction)\n",
    "- Store in Neo4j or NetworkX\n",
    "- Traverse instead of raw vector search\n",
    "\n",
    "### 🔹 Adapting RAG to Agentic RAG\n",
    "- Define agents for sub-tasks (Retriever, Researcher, Summarizer)\n",
    "- Use a planner to coordinate steps\n",
    "- Use CrewAI, LangGraph, or LangChain's agent loop\n",
    "\n",
    "### 🔹 Infrastructure Changes\n",
    "- Graph DB for Graph RAG (e.g. Neo4j)\n",
    "- Orchestration framework for Agentic RAG (e.g. CrewAI)\n"
   ]
  },
  {
   "cell_type": "markdown",
   "id": "eecbbcbc",
   "metadata": {},
   "source": [
    "## 5.  Benefits, Trade-offs, and When to Use"
   ]
  },
  {
   "cell_type": "markdown",
   "id": "4ca7d761",
   "metadata": {},
   "source": [
    "| Approach | Benefits | Trade-offs | Best Use Case |\n",
    "|---------|----------|------------|----------------|\n",
    "| Traditional RAG | Simple, fast, easy to deploy | Shallow reasoning | Simple Q&A |\n",
    "| Graph RAG | Structured, context-rich | Graph building overhead | Enterprise knowledge bases |\n",
    "| Agentic RAG | Complex reasoning, flexible | More infra, planning logic | Multi-step workflows |\n"
   ]
  },
  {
   "cell_type": "markdown",
   "id": "74e34928",
   "metadata": {},
   "source": [
    "---\n",
    "# Agentic Event Management System (Coding Task)\n",
    "Continuation of assignment with implementation details"
   ]
  },
  {
   "cell_type": "markdown",
   "id": "29591fb6",
   "metadata": {},
   "source": [
    "\n",
    "##  Project Overview and Execution Explanation\n",
    "\n",
    "###  Objective\n",
    "This notebook builds an **Agentic Event Management System** using a multi-agent architecture powered by the **LangGraph framework**.\n",
    "\n",
    "---\n",
    "\n",
    "###  Frameworks & Tools Used\n",
    "\n",
    "- **LangGraph**: A library to orchestrate multiple agents (nodes) and define workflows through a graph-like interface.\n",
    "- **StructuredTool**: Tool interface that enables argument-schema-based function execution.\n",
    "- **Python**: Core logic and state management.\n",
    "- **Stream Execution**: For step-by-step traversal with conditional halting.\n",
    "\n",
    "---\n",
    "\n",
    "###  Agents Implemented\n",
    "\n",
    "- **EventPlannerAgent**: Starts planning by initializing state and setting `_next` to `\"vendor\"`.\n",
    "- **VendorManagerAgent**: Suggests vendors using logic and a mock tool (`search_venues`) and returns `_next` as `\"review\"`.\n",
    "- **Graph Streaming**: The system traverses nodes one by one and stops cleanly when `_next = None`.\n",
    "\n",
    "---\n",
    "\n",
    "###  What Happens Step-by-Step?\n",
    "\n",
    "1. `initial_state` defines the event type, budget, and loop counter.\n",
    "2. The graph begins from `planner`.\n",
    "3. It proceeds to the `vendor` node, where:\n",
    "   - Venue suggestions are made.\n",
    "   - Vendors are selected and added to the state.\n",
    "4. `_next` is manually set to `\"review\"` — but `review` agent is **not yet implemented**.\n",
    "5. The system stops because it reaches a node without a follow-up (`_next = None`).\n",
    "6. Output shows the final state of the event.\n",
    "\n",
    "---\n",
    "\n",
    "###  Requirements Met\n",
    "\n",
    "-  **Multi-agent architecture using LangGraph** – Implemented with multiple nodes/agents collaborating\n",
    "-  **Step-by-step streaming with clean halting** – Achieved using `.stream()` with halting condition `_next = None`\n",
    "-  **Vendor suggestion using StructuredTool** – Implemented using a proper tool definition and integration\n",
    "-  **Human review simulation** – Partially implemented: `_next = 'review'` exists, but no actual `review` node defined\n",
    "-  **Budget estimation with StructuredTool** – Tool is defined but has not been wired into the execution graph\n",
    "-  **Final state logging** – Final result or state is logged after execution completes\n",
    "-  **Clean loop termination when `_next=None`** – Confirmed, graph stops execution gracefully when `_next` is set to `None`\n",
    "\n",
    "\n",
    "---\n",
    "\n",
    "###  What’s Missing or Can Be Improved\n",
    "\n",
    "1. **Missing Nodes**:\n",
    "   - `review`: Should simulate human approval and forward to `budget` or `schedule`.\n",
    "   - `budget`: A node using the `StructuredTool` (already defined).\n",
    "   - `schedule`, `execution`, `summary`: These are part of the full loop but missing here.\n",
    "\n",
    "2. **No Randomization**:\n",
    "   - Vendor selection is hardcoded. Could be randomized for realism.\n",
    "\n",
    "3. **Loop Control**:\n",
    "   - Currently uses `loop_count = 0`, increments once. Needs better control logic if more cycles are desired.\n",
    "\n",
    "---\n",
    "\n",
    "###  Recommendation\n",
    "To complete the task fully:\n",
    "- Add `review`, `budget`, `schedule`, `execution`, `summary` agents.\n",
    "- Randomize vendor selection or simulate real-time interaction.\n",
    "- Consider using LangChain agents or memory if interaction history is needed.\n",
    "\n"
   ]
  },
  {
   "cell_type": "markdown",
   "id": "8ed99278",
   "metadata": {},
   "source": [
    "#  Agentic Event Management System using LangGraph "
   ]
  },
  {
   "cell_type": "code",
   "execution_count": 1,
   "id": "e7c2dce9",
   "metadata": {},
   "outputs": [
    {
     "name": "stderr",
     "output_type": "stream",
     "text": [
      "C:\\Users\\visio\\anaconda3\\envs\\langgraph-event\\lib\\site-packages\\requests\\__init__.py:86: RequestsDependencyWarning: Unable to find acceptable character detection dependency (chardet or charset_normalizer).\n",
      "  warnings.warn(\n"
     ]
    }
   ],
   "source": [
    "#  Imports\n",
    "from typing import TypedDict, Dict\n",
    "from langgraph.graph import StateGraph\n",
    "from langchain_core.runnables import RunnableLambda\n",
    "from langchain.tools import StructuredTool"
   ]
  },
  {
   "cell_type": "code",
   "execution_count": 2,
   "id": "a4a11829",
   "metadata": {},
   "outputs": [],
   "source": [
    "#  State Schema\n",
    "class EventState(TypedDict, total=False):\n",
    "    event_type: str\n",
    "    budget: int\n",
    "    vendors: Dict[str, str]\n",
    "    schedule: Dict[str, str]\n",
    "    planner_notes: str\n",
    "    budget_used: int\n",
    "    budget_status: str\n",
    "    loop_count: int"
   ]
  },
  {
   "cell_type": "code",
   "execution_count": 3,
   "id": "38fb355b",
   "metadata": {},
   "outputs": [],
   "source": [
    "#  Tools using StructuredTool only (no Pydantic)\n",
    "def search_venues(query: str):\n",
    "    return f\"Top venues for '{query}': Rosewood Hall, Lakeside Manor, Sunset Pavilion\"\n",
    "\n",
    "def estimate_budget(vendors: Dict[str, str]) -> int:\n",
    "    return 7800\n",
    "\n",
    "# Register a function as a StructuredTool with defined input schema\n",
    "venue_search_tool = StructuredTool.from_function(\n",
    "    name=\"VenueSearch\",\n",
    "    description=\"Searches for venues\",\n",
    "    func=search_venues\n",
    ")\n",
    "\n",
    "def estimate_budget_wrapper(vendors: Dict[str, str]) -> int:\n",
    "    return estimate_budget(vendors)\n",
    "\n",
    "# Register a function as a StructuredTool with defined input schema\n",
    "budget_tool = StructuredTool.from_function(\n",
    "    name=\"BudgetEstimator\",\n",
    "    description=\"Estimates total vendor cost\",\n",
    "    func=estimate_budget_wrapper\n",
    ")"
   ]
  },
  {
   "cell_type": "code",
   "execution_count": 4,
   "id": "a39d5420",
   "metadata": {},
   "outputs": [],
   "source": [
    "#  Agents\n",
    "def event_planner_agent(state):\n",
    "    state[\"loop_count\"] = state.get(\"loop_count\", 0) + 1\n",
    "    print(f\" EventPlannerAgent planning (cycle {state['loop_count']})...\")\n",
    "    if state[\"loop_count\"] > 1:\n",
    "        print(\" Loop limit reached. Halting execution.\")\n",
    "# Check for halting condition\n",
    "        state[\"_next\"] = None\n",
    "    else:\n",
    "        state[\"planner_notes\"] = \"Need to book vendors and finalize date.\"\n",
    "    return state\n",
    "\n",
    "event_planner = RunnableLambda(event_planner_agent)\n",
    "\n",
    "def vendor_manager_agent(state):\n",
    "    print(\" VendorManagerAgent is suggesting vendors...\")\n",
    "    result = venue_search_tool.invoke({\"query\": \"wedding venues\"})\n",
    "    print(\" VenueSearchTool Output:\", result)\n",
    "    state[\"vendors\"] = {\n",
    "        \"caterer\": \"TastyBites\",\n",
    "        \"decorator\": \"FloralHeaven\",\n",
    "        \"venue\": \"Rosewood Hall\"\n",
    "    }\n",
    "    return state\n",
    "\n",
    "vendor_manager = RunnableLambda(vendor_manager_agent)\n",
    "\n",
    "def human_review_agent(state):\n",
    "    print(\" Human Review: Please approve the following vendors:\")\n",
    "    print(state.get(\"vendors\", {}))\n",
    "    input(\"Press Enter to approve...\")\n",
    "    return state\n",
    "\n",
    "human_approval = RunnableLambda(human_review_agent)\n",
    "\n",
    "def budget_analyst_agent(state):\n",
    "    print(\" BudgetAnalystAgent is analyzing costs...\")\n",
    "    cost = budget_tool.invoke({\"vendors\": state.get(\"vendors\", {})})\n",
    "    state[\"budget_used\"] = cost\n",
    "    state[\"budget_status\"] = \"Within Budget\" if cost <= state[\"budget\"] else \"Over Budget\"\n",
    "    return state\n",
    "\n",
    "budget_agent = RunnableLambda(budget_analyst_agent)\n",
    "\n",
    "def scheduler_agent_fn(state):\n",
    "    print(\" SchedulerAgent is preparing the event schedule...\")\n",
    "    state[\"schedule\"] = {\n",
    "        \"date\": \"2025-08-20\",\n",
    "        \"time\": \"5:00 PM - 11:00 PM\"\n",
    "    }\n",
    "    return state\n",
    "\n",
    "scheduler_agent = RunnableLambda(scheduler_agent_fn)"
   ]
  },
  {
   "cell_type": "code",
   "execution_count": 5,
   "id": "98a47e53",
   "metadata": {},
   "outputs": [],
   "source": [
    "#  Build LangGraph\n",
    "builder = StateGraph(EventState)\n",
    "\n",
    "builder.add_node(\"planner\", event_planner)\n",
    "builder.add_node(\"vendor\", vendor_manager)\n",
    "builder.add_node(\"review\", human_approval)\n",
    "builder.add_node(\"budget_agent\", budget_agent)\n",
    "builder.add_node(\"scheduler_agent\", scheduler_agent)\n",
    "\n",
    "builder.set_entry_point(\"planner\")\n",
    "builder.add_edge(\"planner\", \"vendor\")\n",
    "builder.add_edge(\"vendor\", \"review\")\n",
    "builder.add_edge(\"review\", \"budget_agent\")\n",
    "builder.add_edge(\"budget_agent\", \"scheduler_agent\")\n",
    "builder.add_edge(\"scheduler_agent\", \"planner\")\n",
    "\n",
    "graph = builder.compile()"
   ]
  },
  {
   "cell_type": "code",
   "execution_count": null,
   "id": "0d1f34da",
   "metadata": {},
   "outputs": [
    {
     "name": "stdout",
     "output_type": "stream",
     "text": [
      " EventPlannerAgent planning (cycle 1)...\n",
      " VendorManagerAgent is suggesting vendors...\n",
      " VenueSearchTool Output: Top venues for 'wedding venues': Rosewood Hall, Lakeside Manor, Sunset Pavilion\n",
      " Human Review: Please approve the following vendors:\n",
      "{'caterer': 'TastyBites', 'decorator': 'FloralHeaven', 'venue': 'Rosewood Hall'}\n"
     ]
    }
   ],
   "source": [
    "#  Run the graph\n",
    "initial_state = {\n",
    "    \"event_type\": \"Wedding\",\n",
    "    \"budget\": 20000,\n",
    "    \"loop_count\": 0\n",
    "}\n",
    "\n",
    "final_state = graph.invoke(initial_state)\n",
    "print(\"\\n Final State:\", final_state)"
   ]
  },
  {
   "cell_type": "code",
   "execution_count": null,
   "id": "271ae3b9-d339-424e-9a7d-d53881f0612f",
   "metadata": {},
   "outputs": [],
   "source": []
  }
 ],
 "metadata": {
  "kernelspec": {
   "display_name": "langgraph-event",
   "language": "python",
   "name": "langgraph-event"
  },
  "language_info": {
   "codemirror_mode": {
    "name": "ipython",
    "version": 3
   },
   "file_extension": ".py",
   "mimetype": "text/x-python",
   "name": "python",
   "nbconvert_exporter": "python",
   "pygments_lexer": "ipython3",
   "version": "3.10.18"
  }
 },
 "nbformat": 4,
 "nbformat_minor": 5
}
